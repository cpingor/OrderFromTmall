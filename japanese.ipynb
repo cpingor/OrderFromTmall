{
 "cells": [
  {
   "cell_type": "code",
   "execution_count": 1,
   "metadata": {
    "collapsed": true
   },
   "outputs": [],
   "source": [
    "import pandas as pd\n",
    "fact_order = pd.read_excel('日化.xlsx', sheet_name='销售订单表')\n",
    "dim_product = pd.read_excel('日化.xlsx', sheet_name='商品信息表')"
   ]
  },
  {
   "cell_type": "code",
   "execution_count": 2,
   "metadata": {
    "pycharm": {
     "name": "#%%\n"
    }
   },
   "outputs": [
    {
     "data": {
      "text/html": [
       "<div>\n",
       "<style scoped>\n",
       "    .dataframe tbody tr th:only-of-type {\n",
       "        vertical-align: middle;\n",
       "    }\n",
       "\n",
       "    .dataframe tbody tr th {\n",
       "        vertical-align: top;\n",
       "    }\n",
       "\n",
       "    .dataframe thead th {\n",
       "        text-align: right;\n",
       "    }\n",
       "</style>\n",
       "<table border=\"1\" class=\"dataframe\">\n",
       "  <thead>\n",
       "    <tr style=\"text-align: right;\">\n",
       "      <th></th>\n",
       "      <th>商品编号</th>\n",
       "      <th>商品名称</th>\n",
       "      <th>商品小类</th>\n",
       "      <th>商品大类</th>\n",
       "      <th>销售单价</th>\n",
       "    </tr>\n",
       "  </thead>\n",
       "  <tbody>\n",
       "    <tr>\n",
       "      <th>0</th>\n",
       "      <td>X001</td>\n",
       "      <td>商品1</td>\n",
       "      <td>面膜</td>\n",
       "      <td>护肤品</td>\n",
       "      <td>121</td>\n",
       "    </tr>\n",
       "    <tr>\n",
       "      <th>1</th>\n",
       "      <td>X002</td>\n",
       "      <td>商品2</td>\n",
       "      <td>面膜</td>\n",
       "      <td>护肤品</td>\n",
       "      <td>141</td>\n",
       "    </tr>\n",
       "    <tr>\n",
       "      <th>2</th>\n",
       "      <td>X003</td>\n",
       "      <td>商品3</td>\n",
       "      <td>面膜</td>\n",
       "      <td>护肤品</td>\n",
       "      <td>168</td>\n",
       "    </tr>\n",
       "    <tr>\n",
       "      <th>3</th>\n",
       "      <td>X004</td>\n",
       "      <td>商品4</td>\n",
       "      <td>面膜</td>\n",
       "      <td>护肤品</td>\n",
       "      <td>211</td>\n",
       "    </tr>\n",
       "    <tr>\n",
       "      <th>4</th>\n",
       "      <td>X005</td>\n",
       "      <td>商品5</td>\n",
       "      <td>面膜</td>\n",
       "      <td>护肤品</td>\n",
       "      <td>185</td>\n",
       "    </tr>\n",
       "  </tbody>\n",
       "</table>\n",
       "</div>"
      ],
      "text/plain": [
       "   商品编号 商品名称 商品小类 商品大类  销售单价\n",
       "0  X001  商品1   面膜  护肤品   121\n",
       "1  X002  商品2   面膜  护肤品   141\n",
       "2  X003  商品3   面膜  护肤品   168\n",
       "3  X004  商品4   面膜  护肤品   211\n",
       "4  X005  商品5   面膜  护肤品   185"
      ]
     },
     "execution_count": 2,
     "metadata": {},
     "output_type": "execute_result"
    }
   ],
   "source": [
    "dim_product.head()"
   ]
  },
  {
   "cell_type": "code",
   "execution_count": 3,
   "metadata": {
    "pycharm": {
     "name": "#%%\n"
    }
   },
   "outputs": [
    {
     "data": {
      "text/html": [
       "<div>\n",
       "<style scoped>\n",
       "    .dataframe tbody tr th:only-of-type {\n",
       "        vertical-align: middle;\n",
       "    }\n",
       "\n",
       "    .dataframe tbody tr th {\n",
       "        vertical-align: top;\n",
       "    }\n",
       "\n",
       "    .dataframe thead th {\n",
       "        text-align: right;\n",
       "    }\n",
       "</style>\n",
       "<table border=\"1\" class=\"dataframe\">\n",
       "  <thead>\n",
       "    <tr style=\"text-align: right;\">\n",
       "      <th></th>\n",
       "      <th>销售单价</th>\n",
       "    </tr>\n",
       "  </thead>\n",
       "  <tbody>\n",
       "    <tr>\n",
       "      <th>count</th>\n",
       "      <td>122.000000</td>\n",
       "    </tr>\n",
       "    <tr>\n",
       "      <th>mean</th>\n",
       "      <td>156.155738</td>\n",
       "    </tr>\n",
       "    <tr>\n",
       "      <th>std</th>\n",
       "      <td>58.454619</td>\n",
       "    </tr>\n",
       "    <tr>\n",
       "      <th>min</th>\n",
       "      <td>56.000000</td>\n",
       "    </tr>\n",
       "    <tr>\n",
       "      <th>25%</th>\n",
       "      <td>102.250000</td>\n",
       "    </tr>\n",
       "    <tr>\n",
       "      <th>50%</th>\n",
       "      <td>158.000000</td>\n",
       "    </tr>\n",
       "    <tr>\n",
       "      <th>75%</th>\n",
       "      <td>210.750000</td>\n",
       "    </tr>\n",
       "    <tr>\n",
       "      <th>max</th>\n",
       "      <td>253.000000</td>\n",
       "    </tr>\n",
       "  </tbody>\n",
       "</table>\n",
       "</div>"
      ],
      "text/plain": [
       "             销售单价\n",
       "count  122.000000\n",
       "mean   156.155738\n",
       "std     58.454619\n",
       "min     56.000000\n",
       "25%    102.250000\n",
       "50%    158.000000\n",
       "75%    210.750000\n",
       "max    253.000000"
      ]
     },
     "execution_count": 3,
     "metadata": {},
     "output_type": "execute_result"
    }
   ],
   "source": [
    "dim_product.describe()"
   ]
  },
  {
   "cell_type": "code",
   "execution_count": 4,
   "metadata": {
    "pycharm": {
     "name": "#%%\n"
    }
   },
   "outputs": [
    {
     "data": {
      "text/plain": [
       "商品编号    0\n",
       "商品名称    0\n",
       "商品小类    0\n",
       "商品大类    0\n",
       "销售单价    0\n",
       "dtype: int64"
      ]
     },
     "execution_count": 4,
     "metadata": {},
     "output_type": "execute_result"
    }
   ],
   "source": [
    "dim_product[dim_product.duplicated()].count()"
   ]
  },
  {
   "cell_type": "code",
   "execution_count": 5,
   "metadata": {
    "pycharm": {
     "name": "#%%\n"
    }
   },
   "outputs": [
    {
     "data": {
      "text/plain": [
       "商品编号    0\n",
       "商品名称    0\n",
       "商品小类    0\n",
       "商品大类    0\n",
       "销售单价    0\n",
       "dtype: int64"
      ]
     },
     "execution_count": 5,
     "metadata": {},
     "output_type": "execute_result"
    }
   ],
   "source": [
    "dim_product[dim_product['商品编号'].duplicated()].count()"
   ]
  },
  {
   "cell_type": "code",
   "execution_count": 9,
   "metadata": {
    "pycharm": {
     "name": "#%%\n"
    }
   },
   "outputs": [
    {
     "data": {
      "text/plain": [
       "商品编号    0\n",
       "商品名称    0\n",
       "商品小类    0\n",
       "商品大类    0\n",
       "销售单价    0\n",
       "dtype: int64"
      ]
     },
     "execution_count": 9,
     "metadata": {},
     "output_type": "execute_result"
    }
   ],
   "source": [
    "dim_product.isnull().sum()"
   ]
  },
  {
   "cell_type": "code",
   "execution_count": 10,
   "metadata": {
    "pycharm": {
     "name": "#%%\n"
    }
   },
   "outputs": [
    {
     "data": {
      "text/html": [
       "<div>\n",
       "<style scoped>\n",
       "    .dataframe tbody tr th:only-of-type {\n",
       "        vertical-align: middle;\n",
       "    }\n",
       "\n",
       "    .dataframe tbody tr th {\n",
       "        vertical-align: top;\n",
       "    }\n",
       "\n",
       "    .dataframe thead th {\n",
       "        text-align: right;\n",
       "    }\n",
       "</style>\n",
       "<table border=\"1\" class=\"dataframe\">\n",
       "  <thead>\n",
       "    <tr style=\"text-align: right;\">\n",
       "      <th></th>\n",
       "      <th>订单编码</th>\n",
       "      <th>订单日期</th>\n",
       "      <th>客户编码</th>\n",
       "      <th>所在区域</th>\n",
       "      <th>所在省份</th>\n",
       "      <th>所在地市</th>\n",
       "      <th>商品编号</th>\n",
       "      <th>订购数量</th>\n",
       "      <th>订购单价</th>\n",
       "      <th>金额</th>\n",
       "    </tr>\n",
       "  </thead>\n",
       "  <tbody>\n",
       "    <tr>\n",
       "      <th>0</th>\n",
       "      <td>D31313</td>\n",
       "      <td>2019-05-16 00:00:00</td>\n",
       "      <td>S22796</td>\n",
       "      <td>东区</td>\n",
       "      <td>浙江省</td>\n",
       "      <td>台州市</td>\n",
       "      <td>X091</td>\n",
       "      <td>892</td>\n",
       "      <td>214</td>\n",
       "      <td>190888.0</td>\n",
       "    </tr>\n",
       "    <tr>\n",
       "      <th>1</th>\n",
       "      <td>D21329</td>\n",
       "      <td>2019-05-14 00:00:00</td>\n",
       "      <td>S11460</td>\n",
       "      <td>东区</td>\n",
       "      <td>安徽省</td>\n",
       "      <td>宿州市</td>\n",
       "      <td>X005</td>\n",
       "      <td>276</td>\n",
       "      <td>185</td>\n",
       "      <td>51060.0</td>\n",
       "    </tr>\n",
       "    <tr>\n",
       "      <th>2</th>\n",
       "      <td>D22372</td>\n",
       "      <td>2019-08-26 00:00:00</td>\n",
       "      <td>S11101</td>\n",
       "      <td>北区</td>\n",
       "      <td>山西省</td>\n",
       "      <td>忻州市</td>\n",
       "      <td>X078</td>\n",
       "      <td>1450</td>\n",
       "      <td>116</td>\n",
       "      <td>168200.0</td>\n",
       "    </tr>\n",
       "    <tr>\n",
       "      <th>3</th>\n",
       "      <td>D31078</td>\n",
       "      <td>2019-04-08 00:00:00</td>\n",
       "      <td>S10902</td>\n",
       "      <td>北区</td>\n",
       "      <td>吉林省</td>\n",
       "      <td>延边朝鲜族自治州</td>\n",
       "      <td>X025</td>\n",
       "      <td>1834</td>\n",
       "      <td>102</td>\n",
       "      <td>187068.0</td>\n",
       "    </tr>\n",
       "    <tr>\n",
       "      <th>4</th>\n",
       "      <td>D32470</td>\n",
       "      <td>2019-04-11 00:00:00</td>\n",
       "      <td>S18696</td>\n",
       "      <td>北区</td>\n",
       "      <td>北京市</td>\n",
       "      <td>北京市</td>\n",
       "      <td>X010</td>\n",
       "      <td>887</td>\n",
       "      <td>58</td>\n",
       "      <td>51446.0</td>\n",
       "    </tr>\n",
       "  </tbody>\n",
       "</table>\n",
       "</div>"
      ],
      "text/plain": [
       "     订单编码                 订单日期    客户编码 所在区域 所在省份      所在地市  商品编号  订购数量 订购单价  \\\n",
       "0  D31313  2019-05-16 00:00:00  S22796   东区  浙江省       台州市  X091   892  214   \n",
       "1  D21329  2019-05-14 00:00:00  S11460   东区  安徽省       宿州市  X005   276  185   \n",
       "2  D22372  2019-08-26 00:00:00  S11101   北区  山西省       忻州市  X078  1450  116   \n",
       "3  D31078  2019-04-08 00:00:00  S10902   北区  吉林省  延边朝鲜族自治州  X025  1834  102   \n",
       "4  D32470  2019-04-11 00:00:00  S18696   北区  北京市       北京市  X010   887   58   \n",
       "\n",
       "         金额  \n",
       "0  190888.0  \n",
       "1   51060.0  \n",
       "2  168200.0  \n",
       "3  187068.0  \n",
       "4   51446.0  "
      ]
     },
     "execution_count": 10,
     "metadata": {},
     "output_type": "execute_result"
    }
   ],
   "source": [
    "fact_order.head()"
   ]
  },
  {
   "cell_type": "code",
   "execution_count": 11,
   "metadata": {
    "pycharm": {
     "name": "#%%\n"
    }
   },
   "outputs": [
    {
     "data": {
      "text/html": [
       "<div>\n",
       "<style scoped>\n",
       "    .dataframe tbody tr th:only-of-type {\n",
       "        vertical-align: middle;\n",
       "    }\n",
       "\n",
       "    .dataframe tbody tr th {\n",
       "        vertical-align: top;\n",
       "    }\n",
       "\n",
       "    .dataframe thead th {\n",
       "        text-align: right;\n",
       "    }\n",
       "</style>\n",
       "<table border=\"1\" class=\"dataframe\">\n",
       "  <thead>\n",
       "    <tr style=\"text-align: right;\">\n",
       "      <th></th>\n",
       "      <th>金额</th>\n",
       "    </tr>\n",
       "  </thead>\n",
       "  <tbody>\n",
       "    <tr>\n",
       "      <th>count</th>\n",
       "      <td>31448.000000</td>\n",
       "    </tr>\n",
       "    <tr>\n",
       "      <th>mean</th>\n",
       "      <td>141653.540480</td>\n",
       "    </tr>\n",
       "    <tr>\n",
       "      <th>std</th>\n",
       "      <td>99627.261199</td>\n",
       "    </tr>\n",
       "    <tr>\n",
       "      <th>min</th>\n",
       "      <td>392.000000</td>\n",
       "    </tr>\n",
       "    <tr>\n",
       "      <th>25%</th>\n",
       "      <td>64963.750000</td>\n",
       "    </tr>\n",
       "    <tr>\n",
       "      <th>50%</th>\n",
       "      <td>120785.000000</td>\n",
       "    </tr>\n",
       "    <tr>\n",
       "      <th>75%</th>\n",
       "      <td>198948.250000</td>\n",
       "    </tr>\n",
       "    <tr>\n",
       "      <th>max</th>\n",
       "      <td>779285.000000</td>\n",
       "    </tr>\n",
       "  </tbody>\n",
       "</table>\n",
       "</div>"
      ],
      "text/plain": [
       "                  金额\n",
       "count   31448.000000\n",
       "mean   141653.540480\n",
       "std     99627.261199\n",
       "min       392.000000\n",
       "25%     64963.750000\n",
       "50%    120785.000000\n",
       "75%    198948.250000\n",
       "max    779285.000000"
      ]
     },
     "execution_count": 11,
     "metadata": {},
     "output_type": "execute_result"
    }
   ],
   "source": [
    "fact_order.describe()"
   ]
  },
  {
   "cell_type": "code",
   "execution_count": 12,
   "metadata": {
    "pycharm": {
     "name": "#%%\n"
    }
   },
   "outputs": [
    {
     "name": "stdout",
     "output_type": "stream",
     "text": [
      "<class 'pandas.core.frame.DataFrame'>\n",
      "RangeIndex: 31452 entries, 0 to 31451\n",
      "Data columns (total 10 columns):\n",
      " #   Column  Non-Null Count  Dtype  \n",
      "---  ------  --------------  -----  \n",
      " 0   订单编码    31452 non-null  object \n",
      " 1   订单日期    31452 non-null  object \n",
      " 2   客户编码    31452 non-null  object \n",
      " 3   所在区域    31450 non-null  object \n",
      " 4   所在省份    31450 non-null  object \n",
      " 5   所在地市    31452 non-null  object \n",
      " 6   商品编号    31451 non-null  object \n",
      " 7   订购数量    31450 non-null  object \n",
      " 8   订购单价    31448 non-null  object \n",
      " 9   金额      31448 non-null  float64\n",
      "dtypes: float64(1), object(9)\n",
      "memory usage: 2.4+ MB\n"
     ]
    }
   ],
   "source": [
    "fact_order.info()"
   ]
  },
  {
   "cell_type": "code",
   "execution_count": 13,
   "metadata": {
    "pycharm": {
     "name": "#%%\n"
    }
   },
   "outputs": [
    {
     "data": {
      "text/plain": [
       "订单编码    6\n",
       "订单日期    6\n",
       "客户编码    6\n",
       "所在区域    6\n",
       "所在省份    6\n",
       "所在地市    6\n",
       "商品编号    6\n",
       "订购数量    6\n",
       "订购单价    6\n",
       "金额      6\n",
       "dtype: int64"
      ]
     },
     "execution_count": 13,
     "metadata": {},
     "output_type": "execute_result"
    }
   ],
   "source": [
    "fact_order[fact_order.duplicated()].count()"
   ]
  },
  {
   "cell_type": "code",
   "execution_count": 14,
   "metadata": {
    "pycharm": {
     "name": "#%%\n"
    }
   },
   "outputs": [
    {
     "data": {
      "text/plain": [
       "订单编码    0\n",
       "订单日期    0\n",
       "客户编码    0\n",
       "所在区域    2\n",
       "所在省份    2\n",
       "所在地市    0\n",
       "商品编号    1\n",
       "订购数量    2\n",
       "订购单价    4\n",
       "金额      4\n",
       "dtype: int64"
      ]
     },
     "execution_count": 14,
     "metadata": {},
     "output_type": "execute_result"
    }
   ],
   "source": [
    "fact_order.drop_duplicates(inplace=True)\n",
    "fact_order.reset_index(drop=True, inplace=True)\n",
    "fact_order.isnull().sum()"
   ]
  },
  {
   "cell_type": "code",
   "execution_count": 28,
   "metadata": {
    "pycharm": {
     "name": "#%%\n"
    }
   },
   "outputs": [
    {
     "data": {
      "text/plain": [
       "订单编码    0\n",
       "订单日期    0\n",
       "客户编码    0\n",
       "所在区域    0\n",
       "所在省份    0\n",
       "所在地市    0\n",
       "商品编号    0\n",
       "订购数量    0\n",
       "订购单价    0\n",
       "金额      0\n",
       "dtype: int64"
      ]
     },
     "execution_count": 28,
     "metadata": {},
     "output_type": "execute_result"
    }
   ],
   "source": [
    "fact_order.fillna(method='bfill', inplace=True)\n",
    "fact_order.fillna(method='ffill', inplace=True)\n",
    "fact_order.isnull().sum()"
   ]
  },
  {
   "cell_type": "code",
   "execution_count": 29,
   "metadata": {
    "pycharm": {
     "name": "#%%\n"
    }
   },
   "outputs": [
    {
     "data": {
      "text/html": [
       "<div>\n",
       "<style scoped>\n",
       "    .dataframe tbody tr th:only-of-type {\n",
       "        vertical-align: middle;\n",
       "    }\n",
       "\n",
       "    .dataframe tbody tr th {\n",
       "        vertical-align: top;\n",
       "    }\n",
       "\n",
       "    .dataframe thead th {\n",
       "        text-align: right;\n",
       "    }\n",
       "</style>\n",
       "<table border=\"1\" class=\"dataframe\">\n",
       "  <thead>\n",
       "    <tr style=\"text-align: right;\">\n",
       "      <th></th>\n",
       "      <th>订单编码</th>\n",
       "      <th>订单日期</th>\n",
       "      <th>客户编码</th>\n",
       "      <th>所在区域</th>\n",
       "      <th>所在省份</th>\n",
       "      <th>所在地市</th>\n",
       "      <th>商品编号</th>\n",
       "      <th>订购数量</th>\n",
       "      <th>订购单价</th>\n",
       "      <th>金额</th>\n",
       "    </tr>\n",
       "  </thead>\n",
       "  <tbody>\n",
       "    <tr>\n",
       "      <th>20797</th>\n",
       "      <td>D26533</td>\n",
       "      <td>2050-06-09</td>\n",
       "      <td>S21396</td>\n",
       "      <td>北区</td>\n",
       "      <td>河北省</td>\n",
       "      <td>石家庄市</td>\n",
       "      <td>X022</td>\n",
       "      <td>759</td>\n",
       "      <td>158</td>\n",
       "      <td>119922.0</td>\n",
       "    </tr>\n",
       "  </tbody>\n",
       "</table>\n",
       "</div>"
      ],
      "text/plain": [
       "         订单编码       订单日期    客户编码 所在区域 所在省份  所在地市  商品编号 订购数量 订购单价        金额\n",
       "20797  D26533 2050-06-09  S21396   北区  河北省  石家庄市  X022  759  158  119922.0"
      ]
     },
     "execution_count": 29,
     "metadata": {},
     "output_type": "execute_result"
    }
   ],
   "source": [
    "fact_order['订单日期'] = fact_order['订单日期'].apply(lambda x : pd.to_datetime(x, format='%Y#%m#%d') if isinstance(x, str) else x)\n",
    "fact_order[fact_order['订单日期'] > '2021-01-01']\n",
    "\n"
   ]
  },
  {
   "cell_type": "code",
   "execution_count": 33,
   "metadata": {
    "pycharm": {
     "name": "#%%\n"
    }
   },
   "outputs": [
    {
     "data": {
      "text/plain": [
       "(Timestamp('2019-09-30 00:00:00'), Timestamp('2019-01-01 00:00:00'))"
      ]
     },
     "execution_count": 33,
     "metadata": {},
     "output_type": "execute_result"
    }
   ],
   "source": [
    "fact_order = fact_order[fact_order['订单日期'] < '2021-01-01']\n",
    "fact_order['订单日期'].max(), fact_order['订单日期'].min()"
   ]
  },
  {
   "cell_type": "code",
   "execution_count": 34,
   "metadata": {
    "pycharm": {
     "name": "#%%\n"
    }
   },
   "outputs": [],
   "source": [
    "fact_order['订购数量'] = fact_order['订购数量'].apply(lambda x: x.strip('个') if isinstance(x, str) else x).astype('int')\n",
    "fact_order['订购单价'] = fact_order['订购单价'].apply(lambda x: x.strip('元') if isinstance(x, str) else x).astype('float')\n",
    "fact_order['金额'] = fact_order['金额'].astype('float')"
   ]
  },
  {
   "cell_type": "code",
   "execution_count": 35,
   "metadata": {
    "pycharm": {
     "name": "#%%\n"
    }
   },
   "outputs": [
    {
     "name": "stdout",
     "output_type": "stream",
     "text": [
      "<class 'pandas.core.frame.DataFrame'>\n",
      "Int64Index: 31445 entries, 0 to 31445\n",
      "Data columns (total 10 columns):\n",
      " #   Column  Non-Null Count  Dtype         \n",
      "---  ------  --------------  -----         \n",
      " 0   订单编码    31445 non-null  object        \n",
      " 1   订单日期    31445 non-null  datetime64[ns]\n",
      " 2   客户编码    31445 non-null  object        \n",
      " 3   所在区域    31445 non-null  object        \n",
      " 4   所在省份    31445 non-null  object        \n",
      " 5   所在地市    31445 non-null  object        \n",
      " 6   商品编号    31445 non-null  object        \n",
      " 7   订购数量    31445 non-null  int32         \n",
      " 8   订购单价    31445 non-null  float64       \n",
      " 9   金额      31445 non-null  float64       \n",
      "dtypes: datetime64[ns](1), float64(2), int32(1), object(6)\n",
      "memory usage: 3.8+ MB\n"
     ]
    }
   ],
   "source": [
    "fact_order.info()"
   ]
  },
  {
   "cell_type": "code",
   "execution_count": 37,
   "metadata": {
    "pycharm": {
     "name": "#%%\n"
    }
   },
   "outputs": [
    {
     "data": {
      "text/plain": [
       "array(['浙江', '安徽', '山西', '吉林', '北京', '云南', '广东', '广西', '内蒙古', '新疆', '湖北',\n",
       "       '江苏', '甘肃', '四川', '河南', '福建', '陕西', '辽宁', '山东', '江西', '重庆', '河北',\n",
       "       '湖南', '上海', '贵州', '天津', '海南', '宁夏', '黑龙江'], dtype=object)"
      ]
     },
     "execution_count": 37,
     "metadata": {},
     "output_type": "execute_result"
    }
   ],
   "source": [
    "fact_order['所在省份'] = fact_order['所在省份'].str.replace('自治区|维吾尔|回族|壮族|省|市', '')\n",
    "fact_order['所在省份'].unique()"
   ]
  },
  {
   "cell_type": "code",
   "execution_count": 38,
   "metadata": {
    "pycharm": {
     "name": "#%%\n"
    }
   },
   "outputs": [],
   "source": [
    "fact_order['客户编码'] = fact_order['客户编码'].str.replace(\"编号\", \"\")"
   ]
  },
  {
   "cell_type": "code",
   "execution_count": 40,
   "metadata": {
    "pycharm": {
     "name": "#%% 每月订购情况\n"
    }
   },
   "outputs": [
    {
     "data": {
      "text/html": [
       "\n",
       "<script>\n",
       "    require.config({\n",
       "        paths: {\n",
       "            'echarts':'https://assets.pyecharts.org/assets/echarts.min'\n",
       "        }\n",
       "    });\n",
       "</script>\n",
       "\n",
       "        <div id=\"cdf7baa5dc6e40fda99049d428e6eba4\" style=\"width:900px; height:500px;\"></div>\n",
       "\n",
       "<script>\n",
       "        require(['echarts'], function(echarts) {\n",
       "                var chart_cdf7baa5dc6e40fda99049d428e6eba4 = echarts.init(\n",
       "                    document.getElementById('cdf7baa5dc6e40fda99049d428e6eba4'), 'white', {renderer: 'canvas'});\n",
       "                var option_cdf7baa5dc6e40fda99049d428e6eba4 = {\n",
       "    \"animation\": true,\n",
       "    \"animationThreshold\": 2000,\n",
       "    \"animationDuration\": 1000,\n",
       "    \"animationEasing\": \"cubicOut\",\n",
       "    \"animationDelay\": 0,\n",
       "    \"animationDurationUpdate\": 300,\n",
       "    \"animationEasingUpdate\": \"cubicOut\",\n",
       "    \"animationDelayUpdate\": 0,\n",
       "    \"color\": [\n",
       "        \"#c23531\",\n",
       "        \"#2f4554\",\n",
       "        \"#61a0a8\",\n",
       "        \"#d48265\",\n",
       "        \"#749f83\",\n",
       "        \"#ca8622\",\n",
       "        \"#bda29a\",\n",
       "        \"#6e7074\",\n",
       "        \"#546570\",\n",
       "        \"#c4ccd3\",\n",
       "        \"#f05b72\",\n",
       "        \"#ef5b9c\",\n",
       "        \"#f47920\",\n",
       "        \"#905a3d\",\n",
       "        \"#fab27b\",\n",
       "        \"#2a5caa\",\n",
       "        \"#444693\",\n",
       "        \"#726930\",\n",
       "        \"#b2d235\",\n",
       "        \"#6d8346\",\n",
       "        \"#ac6767\",\n",
       "        \"#1d953f\",\n",
       "        \"#6950a1\",\n",
       "        \"#918597\"\n",
       "    ],\n",
       "    \"series\": [\n",
       "        {\n",
       "            \"type\": \"bar\",\n",
       "            \"name\": \"\\u8ba2\\u8d2d\\u6570\\u91cf\\uff08\\u4e07\\u4ef6\\uff09\",\n",
       "            \"legendHoverLink\": true,\n",
       "            \"data\": [\n",
       "                194.74,\n",
       "                214.82,\n",
       "                256.89,\n",
       "                318.53,\n",
       "                359.09,\n",
       "                355.38,\n",
       "                388.68,\n",
       "                383.36,\n",
       "                311.59\n",
       "            ],\n",
       "            \"showBackground\": false,\n",
       "            \"barMinHeight\": 0,\n",
       "            \"barCategoryGap\": \"20%\",\n",
       "            \"barGap\": \"30%\",\n",
       "            \"large\": false,\n",
       "            \"largeThreshold\": 400,\n",
       "            \"seriesLayoutBy\": \"column\",\n",
       "            \"datasetIndex\": 0,\n",
       "            \"clip\": true,\n",
       "            \"zlevel\": 0,\n",
       "            \"z\": 2,\n",
       "            \"label\": {\n",
       "                \"show\": true,\n",
       "                \"position\": \"top\",\n",
       "                \"margin\": 8\n",
       "            },\n",
       "            \"rippleEffect\": {\n",
       "                \"show\": true,\n",
       "                \"brushType\": \"stroke\",\n",
       "                \"scale\": 2.5,\n",
       "                \"period\": 4\n",
       "            }\n",
       "        },\n",
       "        {\n",
       "            \"type\": \"bar\",\n",
       "            \"name\": \"\\u91d1\\u989d\\uff08\\u4ebf\\u5143\\uff09\",\n",
       "            \"legendHoverLink\": true,\n",
       "            \"data\": [\n",
       "                3.14,\n",
       "                3.44,\n",
       "                4.13,\n",
       "                5.05,\n",
       "                5.75,\n",
       "                5.74,\n",
       "                6.22,\n",
       "                6.08,\n",
       "                4.99\n",
       "            ],\n",
       "            \"showBackground\": false,\n",
       "            \"barMinHeight\": 0,\n",
       "            \"barCategoryGap\": \"20%\",\n",
       "            \"barGap\": \"30%\",\n",
       "            \"large\": false,\n",
       "            \"largeThreshold\": 400,\n",
       "            \"seriesLayoutBy\": \"column\",\n",
       "            \"datasetIndex\": 0,\n",
       "            \"clip\": true,\n",
       "            \"zlevel\": 0,\n",
       "            \"z\": 2,\n",
       "            \"label\": {\n",
       "                \"show\": true,\n",
       "                \"position\": \"top\",\n",
       "                \"margin\": 8\n",
       "            },\n",
       "            \"rippleEffect\": {\n",
       "                \"show\": true,\n",
       "                \"brushType\": \"stroke\",\n",
       "                \"scale\": 2.5,\n",
       "                \"period\": 4\n",
       "            }\n",
       "        }\n",
       "    ],\n",
       "    \"legend\": [\n",
       "        {\n",
       "            \"data\": [\n",
       "                \"\\u8ba2\\u8d2d\\u6570\\u91cf\\uff08\\u4e07\\u4ef6\\uff09\",\n",
       "                \"\\u91d1\\u989d\\uff08\\u4ebf\\u5143\\uff09\"\n",
       "            ],\n",
       "            \"selected\": {\n",
       "                \"\\u8ba2\\u8d2d\\u6570\\u91cf\\uff08\\u4e07\\u4ef6\\uff09\": false,\n",
       "                \"\\u91d1\\u989d\\uff08\\u4ebf\\u5143\\uff09\": true\n",
       "            },\n",
       "            \"show\": true,\n",
       "            \"padding\": 5,\n",
       "            \"itemGap\": 10,\n",
       "            \"itemWidth\": 25,\n",
       "            \"itemHeight\": 14\n",
       "        }\n",
       "    ],\n",
       "    \"tooltip\": {\n",
       "        \"show\": true,\n",
       "        \"trigger\": \"item\",\n",
       "        \"triggerOn\": \"mousemove|click\",\n",
       "        \"axisPointer\": {\n",
       "            \"type\": \"line\"\n",
       "        },\n",
       "        \"showContent\": true,\n",
       "        \"alwaysShowContent\": false,\n",
       "        \"showDelay\": 0,\n",
       "        \"hideDelay\": 100,\n",
       "        \"textStyle\": {\n",
       "            \"fontSize\": 14\n",
       "        },\n",
       "        \"borderWidth\": 0,\n",
       "        \"padding\": 5\n",
       "    },\n",
       "    \"xAxis\": [\n",
       "        {\n",
       "            \"show\": true,\n",
       "            \"scale\": false,\n",
       "            \"nameLocation\": \"end\",\n",
       "            \"nameGap\": 15,\n",
       "            \"gridIndex\": 0,\n",
       "            \"inverse\": false,\n",
       "            \"offset\": 0,\n",
       "            \"splitNumber\": 5,\n",
       "            \"minInterval\": 0,\n",
       "            \"splitLine\": {\n",
       "                \"show\": false,\n",
       "                \"lineStyle\": {\n",
       "                    \"show\": true,\n",
       "                    \"width\": 1,\n",
       "                    \"opacity\": 1,\n",
       "                    \"curveness\": 0,\n",
       "                    \"type\": \"solid\"\n",
       "                }\n",
       "            },\n",
       "            \"data\": [\n",
       "                \"1 \\u6708\",\n",
       "                \"2 \\u6708\",\n",
       "                \"3 \\u6708\",\n",
       "                \"4 \\u6708\",\n",
       "                \"5 \\u6708\",\n",
       "                \"6 \\u6708\",\n",
       "                \"7 \\u6708\",\n",
       "                \"8 \\u6708\",\n",
       "                \"9 \\u6708\"\n",
       "            ]\n",
       "        }\n",
       "    ],\n",
       "    \"yAxis\": [\n",
       "        {\n",
       "            \"show\": true,\n",
       "            \"scale\": false,\n",
       "            \"nameLocation\": \"end\",\n",
       "            \"nameGap\": 15,\n",
       "            \"gridIndex\": 0,\n",
       "            \"inverse\": false,\n",
       "            \"offset\": 0,\n",
       "            \"splitNumber\": 5,\n",
       "            \"minInterval\": 0,\n",
       "            \"splitLine\": {\n",
       "                \"show\": false,\n",
       "                \"lineStyle\": {\n",
       "                    \"show\": true,\n",
       "                    \"width\": 1,\n",
       "                    \"opacity\": 1,\n",
       "                    \"curveness\": 0,\n",
       "                    \"type\": \"solid\"\n",
       "                }\n",
       "            }\n",
       "        }\n",
       "    ],\n",
       "    \"title\": [\n",
       "        {\n",
       "            \"text\": \"\\u6bcf\\u6708\\u8ba2\\u8d2d\\u60c5\\u51b5\",\n",
       "            \"padding\": 5,\n",
       "            \"itemGap\": 10\n",
       "        }\n",
       "    ]\n",
       "};\n",
       "                chart_cdf7baa5dc6e40fda99049d428e6eba4.setOption(option_cdf7baa5dc6e40fda99049d428e6eba4);\n",
       "        });\n",
       "    </script>\n"
      ],
      "text/plain": [
       "<pyecharts.render.display.HTML at 0x234971fa2b0>"
      ]
     },
     "execution_count": 40,
     "metadata": {},
     "output_type": "execute_result"
    }
   ],
   "source": [
    "from pyecharts import options as opts\n",
    "from pyecharts.charts import Map, Bar\n",
    "\n",
    "fact_order['订单月份'] = fact_order['订单日期'].apply(lambda x: x.month)\n",
    "item = fact_order.groupby('订单月份').agg({'订购数量': 'sum', '金额': 'sum'}).to_dict()\n",
    "x = [f'{key} 月' for key in item['订购数量'].keys()]\n",
    "y1 = [round(val / 10000, 2) for val in item['订购数量'].values()]\n",
    "y2 = [round(val / 10000 / 10000, 2) for val in item['金额'].values()]\n",
    "c = (\n",
    "    Bar()\n",
    "    .add_xaxis(x)\n",
    "    .add_yaxis('订购数量（万件）', y1, is_selected=False)\n",
    "    .add_yaxis('金额（亿元）', y2)\n",
    "    .set_global_opts(title_opts=opts.TitleOpts(title='每月订购情况'))\n",
    "    .set_series_opts(\n",
    "        label_opts=opts.LabelOpts(is_show=True),\n",
    "    )\n",
    ")\n",
    "c.render_notebook()"
   ]
  },
  {
   "cell_type": "code",
   "execution_count": 48,
   "metadata": {
    "pycharm": {
     "name": "#%% 哪里的人最爱美\n"
    }
   },
   "outputs": [
    {
     "data": {
      "text/html": [
       "\n",
       "<script>\n",
       "    require.config({\n",
       "        paths: {\n",
       "            'echarts':'https://assets.pyecharts.org/assets/echarts.min'\n",
       "        }\n",
       "    });\n",
       "</script>\n",
       "\n",
       "        <div id=\"5995d1d18ec242cea8df316cc8667e66\" style=\"width:900px; height:500px;\"></div>\n",
       "\n",
       "<script>\n",
       "        require(['echarts'], function(echarts) {\n",
       "                var chart_5995d1d18ec242cea8df316cc8667e66 = echarts.init(\n",
       "                    document.getElementById('5995d1d18ec242cea8df316cc8667e66'), 'white', {renderer: 'canvas'});\n",
       "                var option_5995d1d18ec242cea8df316cc8667e66 = {\n",
       "    \"animation\": true,\n",
       "    \"animationThreshold\": 2000,\n",
       "    \"animationDuration\": 1000,\n",
       "    \"animationEasing\": \"cubicOut\",\n",
       "    \"animationDelay\": 0,\n",
       "    \"animationDurationUpdate\": 300,\n",
       "    \"animationEasingUpdate\": \"cubicOut\",\n",
       "    \"animationDelayUpdate\": 0,\n",
       "    \"color\": [\n",
       "        \"#c23531\",\n",
       "        \"#2f4554\",\n",
       "        \"#61a0a8\",\n",
       "        \"#d48265\",\n",
       "        \"#749f83\",\n",
       "        \"#ca8622\",\n",
       "        \"#bda29a\",\n",
       "        \"#6e7074\",\n",
       "        \"#546570\",\n",
       "        \"#c4ccd3\",\n",
       "        \"#f05b72\",\n",
       "        \"#ef5b9c\",\n",
       "        \"#f47920\",\n",
       "        \"#905a3d\",\n",
       "        \"#fab27b\",\n",
       "        \"#2a5caa\",\n",
       "        \"#444693\",\n",
       "        \"#726930\",\n",
       "        \"#b2d235\",\n",
       "        \"#6d8346\",\n",
       "        \"#ac6767\",\n",
       "        \"#1d953f\",\n",
       "        \"#6950a1\",\n",
       "        \"#918597\"\n",
       "    ],\n",
       "    \"series\": [\n",
       "        {\n",
       "            \"type\": \"bar\",\n",
       "            \"name\": \"\\u8ba2\\u8d2d\\u91cf\",\n",
       "            \"legendHoverLink\": true,\n",
       "            \"data\": [\n",
       "                27.56,\n",
       "                27.58,\n",
       "                31.43,\n",
       "                34.18,\n",
       "                34.31,\n",
       "                36.14,\n",
       "                38.12,\n",
       "                39.55,\n",
       "                39.87,\n",
       "                41.35,\n",
       "                42.51,\n",
       "                45.22,\n",
       "                52.41,\n",
       "                56.27,\n",
       "                56.38,\n",
       "                73.81,\n",
       "                77.83,\n",
       "                80.54,\n",
       "                101.05,\n",
       "                112.53\n",
       "            ],\n",
       "            \"showBackground\": false,\n",
       "            \"barMinHeight\": 0,\n",
       "            \"barCategoryGap\": \"20%\",\n",
       "            \"barGap\": \"30%\",\n",
       "            \"large\": false,\n",
       "            \"largeThreshold\": 400,\n",
       "            \"seriesLayoutBy\": \"column\",\n",
       "            \"datasetIndex\": 0,\n",
       "            \"clip\": true,\n",
       "            \"zlevel\": 0,\n",
       "            \"z\": 2,\n",
       "            \"label\": {\n",
       "                \"show\": true,\n",
       "                \"position\": \"right\",\n",
       "                \"margin\": 8,\n",
       "                \"formatter\": \"{c} \\u4e07\"\n",
       "            }\n",
       "        }\n",
       "    ],\n",
       "    \"legend\": [\n",
       "        {\n",
       "            \"data\": [\n",
       "                \"\\u8ba2\\u8d2d\\u91cf\"\n",
       "            ],\n",
       "            \"selected\": {\n",
       "                \"\\u8ba2\\u8d2d\\u91cf\": true\n",
       "            },\n",
       "            \"show\": true,\n",
       "            \"padding\": 5,\n",
       "            \"itemGap\": 10,\n",
       "            \"itemWidth\": 25,\n",
       "            \"itemHeight\": 14\n",
       "        }\n",
       "    ],\n",
       "    \"tooltip\": {\n",
       "        \"show\": true,\n",
       "        \"trigger\": \"item\",\n",
       "        \"triggerOn\": \"mousemove|click\",\n",
       "        \"axisPointer\": {\n",
       "            \"type\": \"line\"\n",
       "        },\n",
       "        \"showContent\": true,\n",
       "        \"alwaysShowContent\": false,\n",
       "        \"showDelay\": 0,\n",
       "        \"hideDelay\": 100,\n",
       "        \"textStyle\": {\n",
       "            \"fontSize\": 14\n",
       "        },\n",
       "        \"borderWidth\": 0,\n",
       "        \"padding\": 5\n",
       "    },\n",
       "    \"xAxis\": [\n",
       "        {\n",
       "            \"show\": true,\n",
       "            \"scale\": false,\n",
       "            \"nameLocation\": \"end\",\n",
       "            \"nameGap\": 15,\n",
       "            \"gridIndex\": 0,\n",
       "            \"inverse\": false,\n",
       "            \"offset\": 0,\n",
       "            \"splitNumber\": 5,\n",
       "            \"minInterval\": 0,\n",
       "            \"splitLine\": {\n",
       "                \"show\": false,\n",
       "                \"lineStyle\": {\n",
       "                    \"show\": true,\n",
       "                    \"width\": 1,\n",
       "                    \"opacity\": 1,\n",
       "                    \"curveness\": 0,\n",
       "                    \"type\": \"solid\"\n",
       "                }\n",
       "            }\n",
       "        }\n",
       "    ],\n",
       "    \"yAxis\": [\n",
       "        {\n",
       "            \"show\": true,\n",
       "            \"scale\": false,\n",
       "            \"nameLocation\": \"end\",\n",
       "            \"nameGap\": 15,\n",
       "            \"gridIndex\": 0,\n",
       "            \"inverse\": false,\n",
       "            \"offset\": 0,\n",
       "            \"splitNumber\": 5,\n",
       "            \"minInterval\": 0,\n",
       "            \"splitLine\": {\n",
       "                \"show\": false,\n",
       "                \"lineStyle\": {\n",
       "                    \"show\": true,\n",
       "                    \"width\": 1,\n",
       "                    \"opacity\": 1,\n",
       "                    \"curveness\": 0,\n",
       "                    \"type\": \"solid\"\n",
       "                }\n",
       "            },\n",
       "            \"data\": [\n",
       "                \"\\u5357\\u660c\\u5e02\",\n",
       "                \"\\u798f\\u5dde\\u5e02\",\n",
       "                \"\\u626c\\u5dde\\u5e02\",\n",
       "                \"\\u4e1c\\u839e\\u5e02\",\n",
       "                \"\\u6e29\\u5dde\\u5e02\",\n",
       "                \"\\u5e38\\u5dde\\u5e02\",\n",
       "                \"\\u65e0\\u9521\\u5e02\",\n",
       "                \"\\u5357\\u4eac\\u5e02\",\n",
       "                \"\\u957f\\u6c99\\u5e02\",\n",
       "                \"\\u6cf0\\u5dde\\u5e02\",\n",
       "                \"\\u5b81\\u6ce2\\u5e02\",\n",
       "                \"\\u5357\\u901a\\u5e02\",\n",
       "                \"\\u5e7f\\u5dde\\u5e02\",\n",
       "                \"\\u5317\\u4eac\\u5e02\",\n",
       "                \"\\u676d\\u5dde\\u5e02\",\n",
       "                \"\\u6cc9\\u5dde\\u5e02\",\n",
       "                \"\\u6df1\\u5733\\u5e02\",\n",
       "                \"\\u91cd\\u5e86\\u5e02\",\n",
       "                \"\\u82cf\\u5dde\\u5e02\",\n",
       "                \"\\u4e0a\\u6d77\\u5e02\"\n",
       "            ]\n",
       "        }\n",
       "    ],\n",
       "    \"title\": [\n",
       "        {\n",
       "            \"text\": \"\\u8ba2\\u8d2d\\u6570\\u91cf\\u6392\\u884c TOP20\",\n",
       "            \"padding\": 5,\n",
       "            \"itemGap\": 10\n",
       "        }\n",
       "    ]\n",
       "};\n",
       "                chart_5995d1d18ec242cea8df316cc8667e66.setOption(option_5995d1d18ec242cea8df316cc8667e66);\n",
       "        });\n",
       "    </script>\n"
      ],
      "text/plain": [
       "<pyecharts.render.display.HTML at 0x2349686c6d8>"
      ]
     },
     "execution_count": 48,
     "metadata": {},
     "output_type": "execute_result"
    }
   ],
   "source": [
    "item = fact_order.groupby('所在地市').agg({'订购数量' : 'sum'}).sort_values(by='订购数量', ascending=False)[:20].sort_values(by='订购数量').to_dict()['订购数量']\n",
    "\n",
    "d = (\n",
    "    Bar()\n",
    "    .add_xaxis([*item.keys()])\n",
    "    .add_yaxis(\"订购量\", [round(v / 10000, 2) for v in item.values()], label_opts=opts.LabelOpts(position='right', formatter='{c} 万'))\n",
    "    .reversal_axis()\n",
    "    .set_global_opts(title_opts=opts.TitleOpts(\"订购数量排行 TOP20\"))\n",
    ")\n",
    "d.render_notebook()"
   ]
  },
  {
   "cell_type": "code",
   "execution_count": 50,
   "metadata": {
    "pycharm": {
     "name": "#%%什么类型的美妆需求量最大\n"
    }
   },
   "outputs": [
    {
     "data": {
      "text/html": [
       "<div>\n",
       "<style scoped>\n",
       "    .dataframe tbody tr th:only-of-type {\n",
       "        vertical-align: middle;\n",
       "    }\n",
       "\n",
       "    .dataframe tbody tr th {\n",
       "        vertical-align: top;\n",
       "    }\n",
       "\n",
       "    .dataframe thead th {\n",
       "        text-align: right;\n",
       "    }\n",
       "</style>\n",
       "<table border=\"1\" class=\"dataframe\">\n",
       "  <thead>\n",
       "    <tr style=\"text-align: right;\">\n",
       "      <th></th>\n",
       "      <th>订单编码</th>\n",
       "      <th>订单日期</th>\n",
       "      <th>客户编码</th>\n",
       "      <th>所在区域</th>\n",
       "      <th>所在省份</th>\n",
       "      <th>所在地市</th>\n",
       "      <th>商品编号</th>\n",
       "      <th>订购数量</th>\n",
       "      <th>订购单价</th>\n",
       "      <th>金额</th>\n",
       "      <th>订单月份</th>\n",
       "      <th>商品名称</th>\n",
       "      <th>商品小类</th>\n",
       "      <th>商品大类</th>\n",
       "      <th>销售单价</th>\n",
       "    </tr>\n",
       "  </thead>\n",
       "  <tbody>\n",
       "    <tr>\n",
       "      <th>0</th>\n",
       "      <td>D31313</td>\n",
       "      <td>2019-05-16</td>\n",
       "      <td>S22796</td>\n",
       "      <td>东区</td>\n",
       "      <td>浙江</td>\n",
       "      <td>台州市</td>\n",
       "      <td>X091</td>\n",
       "      <td>892</td>\n",
       "      <td>214.0</td>\n",
       "      <td>190888.0</td>\n",
       "      <td>5</td>\n",
       "      <td>商品91</td>\n",
       "      <td>粉底</td>\n",
       "      <td>彩妆</td>\n",
       "      <td>214</td>\n",
       "    </tr>\n",
       "    <tr>\n",
       "      <th>1</th>\n",
       "      <td>D26674</td>\n",
       "      <td>2019-05-01</td>\n",
       "      <td>S15128</td>\n",
       "      <td>东区</td>\n",
       "      <td>江苏</td>\n",
       "      <td>南通市</td>\n",
       "      <td>X091</td>\n",
       "      <td>1133</td>\n",
       "      <td>214.0</td>\n",
       "      <td>242462.0</td>\n",
       "      <td>5</td>\n",
       "      <td>商品91</td>\n",
       "      <td>粉底</td>\n",
       "      <td>彩妆</td>\n",
       "      <td>214</td>\n",
       "    </tr>\n",
       "    <tr>\n",
       "      <th>2</th>\n",
       "      <td>D23381</td>\n",
       "      <td>2019-09-22</td>\n",
       "      <td>S17133</td>\n",
       "      <td>东区</td>\n",
       "      <td>江苏</td>\n",
       "      <td>宿迁市</td>\n",
       "      <td>X091</td>\n",
       "      <td>1136</td>\n",
       "      <td>214.0</td>\n",
       "      <td>243104.0</td>\n",
       "      <td>9</td>\n",
       "      <td>商品91</td>\n",
       "      <td>粉底</td>\n",
       "      <td>彩妆</td>\n",
       "      <td>214</td>\n",
       "    </tr>\n",
       "    <tr>\n",
       "      <th>3</th>\n",
       "      <td>D29060</td>\n",
       "      <td>2019-09-10</td>\n",
       "      <td>S14106</td>\n",
       "      <td>东区</td>\n",
       "      <td>江苏</td>\n",
       "      <td>常州市</td>\n",
       "      <td>X091</td>\n",
       "      <td>544</td>\n",
       "      <td>214.0</td>\n",
       "      <td>116416.0</td>\n",
       "      <td>9</td>\n",
       "      <td>商品91</td>\n",
       "      <td>粉底</td>\n",
       "      <td>彩妆</td>\n",
       "      <td>214</td>\n",
       "    </tr>\n",
       "    <tr>\n",
       "      <th>4</th>\n",
       "      <td>D21234</td>\n",
       "      <td>2019-07-03</td>\n",
       "      <td>S17197</td>\n",
       "      <td>东区</td>\n",
       "      <td>湖北</td>\n",
       "      <td>十堰市</td>\n",
       "      <td>X091</td>\n",
       "      <td>342</td>\n",
       "      <td>214.0</td>\n",
       "      <td>73188.0</td>\n",
       "      <td>7</td>\n",
       "      <td>商品91</td>\n",
       "      <td>粉底</td>\n",
       "      <td>彩妆</td>\n",
       "      <td>214</td>\n",
       "    </tr>\n",
       "    <tr>\n",
       "      <th>...</th>\n",
       "      <td>...</td>\n",
       "      <td>...</td>\n",
       "      <td>...</td>\n",
       "      <td>...</td>\n",
       "      <td>...</td>\n",
       "      <td>...</td>\n",
       "      <td>...</td>\n",
       "      <td>...</td>\n",
       "      <td>...</td>\n",
       "      <td>...</td>\n",
       "      <td>...</td>\n",
       "      <td>...</td>\n",
       "      <td>...</td>\n",
       "      <td>...</td>\n",
       "      <td>...</td>\n",
       "    </tr>\n",
       "    <tr>\n",
       "      <th>31439</th>\n",
       "      <td>D30482</td>\n",
       "      <td>2019-06-05</td>\n",
       "      <td>S11033</td>\n",
       "      <td>东区</td>\n",
       "      <td>浙江</td>\n",
       "      <td>金华市</td>\n",
       "      <td>X118</td>\n",
       "      <td>551</td>\n",
       "      <td>238.0</td>\n",
       "      <td>131138.0</td>\n",
       "      <td>6</td>\n",
       "      <td>商品118</td>\n",
       "      <td>蜜粉</td>\n",
       "      <td>彩妆</td>\n",
       "      <td>238</td>\n",
       "    </tr>\n",
       "    <tr>\n",
       "      <th>31440</th>\n",
       "      <td>D29542</td>\n",
       "      <td>2019-05-01</td>\n",
       "      <td>S12446</td>\n",
       "      <td>东区</td>\n",
       "      <td>江苏</td>\n",
       "      <td>南通市</td>\n",
       "      <td>X118</td>\n",
       "      <td>165</td>\n",
       "      <td>238.0</td>\n",
       "      <td>39270.0</td>\n",
       "      <td>5</td>\n",
       "      <td>商品118</td>\n",
       "      <td>蜜粉</td>\n",
       "      <td>彩妆</td>\n",
       "      <td>238</td>\n",
       "    </tr>\n",
       "    <tr>\n",
       "      <th>31441</th>\n",
       "      <td>D24798</td>\n",
       "      <td>2019-06-26</td>\n",
       "      <td>S16170</td>\n",
       "      <td>南区</td>\n",
       "      <td>福建</td>\n",
       "      <td>泉州市</td>\n",
       "      <td>X118</td>\n",
       "      <td>62</td>\n",
       "      <td>238.0</td>\n",
       "      <td>14756.0</td>\n",
       "      <td>6</td>\n",
       "      <td>商品118</td>\n",
       "      <td>蜜粉</td>\n",
       "      <td>彩妆</td>\n",
       "      <td>238</td>\n",
       "    </tr>\n",
       "    <tr>\n",
       "      <th>31442</th>\n",
       "      <td>D31831</td>\n",
       "      <td>2019-08-13</td>\n",
       "      <td>S22214</td>\n",
       "      <td>北区</td>\n",
       "      <td>黑龙江</td>\n",
       "      <td>佳木斯市</td>\n",
       "      <td>X118</td>\n",
       "      <td>795</td>\n",
       "      <td>238.0</td>\n",
       "      <td>189210.0</td>\n",
       "      <td>8</td>\n",
       "      <td>商品118</td>\n",
       "      <td>蜜粉</td>\n",
       "      <td>彩妆</td>\n",
       "      <td>238</td>\n",
       "    </tr>\n",
       "    <tr>\n",
       "      <th>31443</th>\n",
       "      <td>D28890</td>\n",
       "      <td>2019-07-21</td>\n",
       "      <td>S15066</td>\n",
       "      <td>西区</td>\n",
       "      <td>四川</td>\n",
       "      <td>南充市</td>\n",
       "      <td>X118</td>\n",
       "      <td>148</td>\n",
       "      <td>238.0</td>\n",
       "      <td>35224.0</td>\n",
       "      <td>7</td>\n",
       "      <td>商品118</td>\n",
       "      <td>蜜粉</td>\n",
       "      <td>彩妆</td>\n",
       "      <td>238</td>\n",
       "    </tr>\n",
       "  </tbody>\n",
       "</table>\n",
       "<p>31444 rows × 15 columns</p>\n",
       "</div>"
      ],
      "text/plain": [
       "         订单编码       订单日期    客户编码 所在区域 所在省份  所在地市  商品编号  订购数量   订购单价        金额  \\\n",
       "0      D31313 2019-05-16  S22796   东区   浙江   台州市  X091   892  214.0  190888.0   \n",
       "1      D26674 2019-05-01  S15128   东区   江苏   南通市  X091  1133  214.0  242462.0   \n",
       "2      D23381 2019-09-22  S17133   东区   江苏   宿迁市  X091  1136  214.0  243104.0   \n",
       "3      D29060 2019-09-10  S14106   东区   江苏   常州市  X091   544  214.0  116416.0   \n",
       "4      D21234 2019-07-03  S17197   东区   湖北   十堰市  X091   342  214.0   73188.0   \n",
       "...       ...        ...     ...  ...  ...   ...   ...   ...    ...       ...   \n",
       "31439  D30482 2019-06-05  S11033   东区   浙江   金华市  X118   551  238.0  131138.0   \n",
       "31440  D29542 2019-05-01  S12446   东区   江苏   南通市  X118   165  238.0   39270.0   \n",
       "31441  D24798 2019-06-26  S16170   南区   福建   泉州市  X118    62  238.0   14756.0   \n",
       "31442  D31831 2019-08-13  S22214   北区  黑龙江  佳木斯市  X118   795  238.0  189210.0   \n",
       "31443  D28890 2019-07-21  S15066   西区   四川   南充市  X118   148  238.0   35224.0   \n",
       "\n",
       "       订单月份   商品名称 商品小类 商品大类  销售单价  \n",
       "0         5   商品91   粉底   彩妆   214  \n",
       "1         5   商品91   粉底   彩妆   214  \n",
       "2         9   商品91   粉底   彩妆   214  \n",
       "3         9   商品91   粉底   彩妆   214  \n",
       "4         7   商品91   粉底   彩妆   214  \n",
       "...     ...    ...  ...  ...   ...  \n",
       "31439     6  商品118   蜜粉   彩妆   238  \n",
       "31440     5  商品118   蜜粉   彩妆   238  \n",
       "31441     6  商品118   蜜粉   彩妆   238  \n",
       "31442     8  商品118   蜜粉   彩妆   238  \n",
       "31443     7  商品118   蜜粉   彩妆   238  \n",
       "\n",
       "[31444 rows x 15 columns]"
      ]
     },
     "execution_count": 50,
     "metadata": {},
     "output_type": "execute_result"
    }
   ],
   "source": [
    "order = pd.merge(fact_order, dim_product, on='商品编号', how='inner')\n",
    "order"
   ]
  },
  {
   "cell_type": "code",
   "execution_count": null,
   "outputs": [],
   "source": [
    "order.groupby(['商品大类', '商品小类']).agg({'订购数量':'sum'}).sort_values(by=['商品大类', '订购数量'], ascending=[True, False])"
   ],
   "metadata": {
    "collapsed": false,
    "pycharm": {
     "name": "#%%\n"
    }
   }
  },
  {
   "cell_type": "code",
   "execution_count": 60,
   "metadata": {
    "pycharm": {
     "name": "#%%哪些省份的美妆需求量最大\n"
    }
   },
   "outputs": [
    {
     "data": {
      "text/plain": "<pyecharts.render.display.HTML at 0x234978994e0>",
      "text/html": "\n<script>\n    require.config({\n        paths: {\n            'echarts':'https://assets.pyecharts.org/assets/echarts.min', 'china':'https://assets.pyecharts.org/assets/maps/china'\n        }\n    });\n</script>\n\n        <div id=\"5663f4a5d23a47e28c235ef347180fe1\" style=\"width:900px; height:500px;\"></div>\n\n<script>\n        require(['echarts', 'china'], function(echarts) {\n                var chart_5663f4a5d23a47e28c235ef347180fe1 = echarts.init(\n                    document.getElementById('5663f4a5d23a47e28c235ef347180fe1'), 'white', {renderer: 'canvas'});\n                var option_5663f4a5d23a47e28c235ef347180fe1 = {\n    \"animation\": true,\n    \"animationThreshold\": 2000,\n    \"animationDuration\": 1000,\n    \"animationEasing\": \"cubicOut\",\n    \"animationDelay\": 0,\n    \"animationDurationUpdate\": 300,\n    \"animationEasingUpdate\": \"cubicOut\",\n    \"animationDelayUpdate\": 0,\n    \"color\": [\n        \"#c23531\",\n        \"#2f4554\",\n        \"#61a0a8\",\n        \"#d48265\",\n        \"#749f83\",\n        \"#ca8622\",\n        \"#bda29a\",\n        \"#6e7074\",\n        \"#546570\",\n        \"#c4ccd3\",\n        \"#f05b72\",\n        \"#ef5b9c\",\n        \"#f47920\",\n        \"#905a3d\",\n        \"#fab27b\",\n        \"#2a5caa\",\n        \"#444693\",\n        \"#726930\",\n        \"#b2d235\",\n        \"#6d8346\",\n        \"#ac6767\",\n        \"#1d953f\",\n        \"#6950a1\",\n        \"#918597\"\n    ],\n    \"series\": [\n        {\n            \"type\": \"map\",\n            \"name\": \"\\u8ba2\\u8d2d\\u6570\\u91cf\",\n            \"label\": {\n                \"show\": true,\n                \"position\": \"top\",\n                \"margin\": 8\n            },\n            \"mapType\": \"china\",\n            \"data\": [\n                {\n                    \"name\": \"\\u4e0a\\u6d77\",\n                    \"value\": 1125312\n                },\n                {\n                    \"name\": \"\\u4e91\\u5357\",\n                    \"value\": 706882\n                },\n                {\n                    \"name\": \"\\u5185\\u8499\\u53e4\",\n                    \"value\": 120813\n                },\n                {\n                    \"name\": \"\\u5317\\u4eac\",\n                    \"value\": 561432\n                },\n                {\n                    \"name\": \"\\u5409\\u6797\",\n                    \"value\": 344333\n                },\n                {\n                    \"name\": \"\\u56db\\u5ddd\",\n                    \"value\": 1351715\n                },\n                {\n                    \"name\": \"\\u5929\\u6d25\",\n                    \"value\": 155298\n                },\n                {\n                    \"name\": \"\\u5b81\\u590f\",\n                    \"value\": 102254\n                },\n                {\n                    \"name\": \"\\u5b89\\u5fbd\",\n                    \"value\": 1353512\n                },\n                {\n                    \"name\": \"\\u5c71\\u4e1c\",\n                    \"value\": 1234058\n                },\n                {\n                    \"name\": \"\\u5c71\\u897f\",\n                    \"value\": 516045\n                },\n                {\n                    \"name\": \"\\u5e7f\\u4e1c\",\n                    \"value\": 2952919\n                },\n                {\n                    \"name\": \"\\u5e7f\\u897f\",\n                    \"value\": 914145\n                },\n                {\n                    \"name\": \"\\u65b0\\u7586\",\n                    \"value\": 202183\n                },\n                {\n                    \"name\": \"\\u6c5f\\u82cf\",\n                    \"value\": 4181096\n                },\n                {\n                    \"name\": \"\\u6c5f\\u897f\",\n                    \"value\": 934775\n                },\n                {\n                    \"name\": \"\\u6cb3\\u5317\",\n                    \"value\": 963865\n                },\n                {\n                    \"name\": \"\\u6cb3\\u5357\",\n                    \"value\": 552203\n                },\n                {\n                    \"name\": \"\\u6d59\\u6c5f\",\n                    \"value\": 2360029\n                },\n                {\n                    \"name\": \"\\u6d77\\u5357\",\n                    \"value\": 134901\n                },\n                {\n                    \"name\": \"\\u6e56\\u5317\",\n                    \"value\": 910203\n                },\n                {\n                    \"name\": \"\\u6e56\\u5357\",\n                    \"value\": 1314400\n                },\n                {\n                    \"name\": \"\\u7518\\u8083\",\n                    \"value\": 286306\n                },\n                {\n                    \"name\": \"\\u798f\\u5efa\",\n                    \"value\": 1570181\n                },\n                {\n                    \"name\": \"\\u8d35\\u5dde\",\n                    \"value\": 483007\n                },\n                {\n                    \"name\": \"\\u8fbd\\u5b81\",\n                    \"value\": 564647\n                },\n                {\n                    \"name\": \"\\u91cd\\u5e86\",\n                    \"value\": 805434\n                },\n                {\n                    \"name\": \"\\u9655\\u897f\",\n                    \"value\": 647066\n                },\n                {\n                    \"name\": \"\\u9ed1\\u9f99\\u6c5f\",\n                    \"value\": 481754\n                }\n            ],\n            \"roam\": true,\n            \"aspectScale\": 0.75,\n            \"nameProperty\": \"name\",\n            \"selectedMode\": false,\n            \"zoom\": 1,\n            \"mapValueCalculation\": \"sum\",\n            \"showLegendSymbol\": false,\n            \"emphasis\": {},\n            \"rippleEffect\": {\n                \"show\": true,\n                \"brushType\": \"stroke\",\n                \"scale\": 2.5,\n                \"period\": 4\n            }\n        }\n    ],\n    \"legend\": [\n        {\n            \"data\": [\n                \"\\u8ba2\\u8d2d\\u6570\\u91cf\"\n            ],\n            \"selected\": {\n                \"\\u8ba2\\u8d2d\\u6570\\u91cf\": true\n            },\n            \"show\": true,\n            \"padding\": 5,\n            \"itemGap\": 10,\n            \"itemWidth\": 25,\n            \"itemHeight\": 14\n        }\n    ],\n    \"tooltip\": {\n        \"show\": true,\n        \"trigger\": \"item\",\n        \"triggerOn\": \"mousemove|click\",\n        \"axisPointer\": {\n            \"type\": \"line\"\n        },\n        \"showContent\": true,\n        \"alwaysShowContent\": false,\n        \"showDelay\": 0,\n        \"hideDelay\": 100,\n        \"textStyle\": {\n            \"fontSize\": 14\n        },\n        \"borderWidth\": 0,\n        \"padding\": 5\n    },\n    \"title\": [\n        {\n            \"text\": \"\\u7701\\u4efd\\u5206\\u5e03\",\n            \"padding\": 5,\n            \"itemGap\": 10\n        }\n    ],\n    \"visualMap\": {\n        \"show\": true,\n        \"type\": \"continuous\",\n        \"min\": 0,\n        \"max\": 1000000,\n        \"inRange\": {\n            \"color\": [\n                \"#50a3ba\",\n                \"#eac763\",\n                \"#d94e5d\"\n            ]\n        },\n        \"calculable\": true,\n        \"inverse\": false,\n        \"splitNumber\": 5,\n        \"orient\": \"vertical\",\n        \"showLabel\": true,\n        \"itemWidth\": 20,\n        \"itemHeight\": 140,\n        \"borderWidth\": 0\n    }\n};\n                chart_5663f4a5d23a47e28c235ef347180fe1.setOption(option_5663f4a5d23a47e28c235ef347180fe1);\n        });\n    </script>\n"
     },
     "execution_count": 60,
     "metadata": {},
     "output_type": "execute_result"
    }
   ],
   "source": [
    "item = fact_order.groupby('所在省份').agg({'订购数量' : 'sum'}).to_dict()['订购数量']\n",
    "e = (\n",
    "    Map()\n",
    "    .add('订购数量', [*item.items()], 'china', is_map_symbol_show=False)\n",
    "    .set_series_opts(label_opts=opts.LabelOpts(is_show=True))\n",
    "    .set_global_opts(\n",
    "        title_opts=opts.TitleOpts(title='省份分布'),\n",
    "        visualmap_opts=opts.VisualMapOpts(max_=1000000),\n",
    "    )\n",
    ")\n",
    "e.render_notebook()"
   ]
  },
  {
   "cell_type": "code",
   "execution_count": 61,
   "outputs": [],
   "source": [
    "'''RFM:\n",
    "R-Recency（最近一次购买时间）\n",
    "F-Frequency（消费频率）\n",
    "M-Money（消费金额）\n",
    "'''\n",
    "data_rfm = fact_order.groupby('客户编码').agg({'订单日期' : 'max', '订单编码': 'count', '金额' : 'sum'})\n",
    "data_rfm.columns = ['最近购买时间', '消费次数', '消费金额']\n"
   ],
   "metadata": {
    "collapsed": false,
    "pycharm": {
     "name": "#%%\n"
    }
   }
  },
  {
   "cell_type": "code",
   "execution_count": 62,
   "outputs": [
    {
     "data": {
      "text/plain": "           最近购买时间  消费次数       消费金额         R         F         M\n客户编码                                                            \nS11609 2019-09-30    42  7326027.0  0.980148  0.796399  0.903970\nS19828 2019-09-30    21  2642275.0  0.980148  0.356879  0.306556\nS17166 2019-09-30    17  3627037.0  0.980148  0.261311  0.478301\nS22925 2019-09-30    31  3449117.0  0.980148  0.591413  0.457987\nS10469 2019-09-30    30  4198071.0  0.980148  0.570175  0.564174\n...           ...   ...        ...       ...       ...       ...\nS16503 2019-04-07    14  1682893.0  0.004617  0.198061  0.146814\nS17547 2019-03-14    10  1784531.0  0.003232  0.087258  0.163435\nS20864 2019-03-14     8  1118752.0  0.003232  0.039243  0.047091\nS11908 2019-03-09     9  1552311.0  0.001847  0.060942  0.125577\nS11611 2019-03-03    10  1487966.0  0.000923  0.087258  0.113573\n\n[1083 rows x 6 columns]",
      "text/html": "<div>\n<style scoped>\n    .dataframe tbody tr th:only-of-type {\n        vertical-align: middle;\n    }\n\n    .dataframe tbody tr th {\n        vertical-align: top;\n    }\n\n    .dataframe thead th {\n        text-align: right;\n    }\n</style>\n<table border=\"1\" class=\"dataframe\">\n  <thead>\n    <tr style=\"text-align: right;\">\n      <th></th>\n      <th>最近购买时间</th>\n      <th>消费次数</th>\n      <th>消费金额</th>\n      <th>R</th>\n      <th>F</th>\n      <th>M</th>\n    </tr>\n    <tr>\n      <th>客户编码</th>\n      <th></th>\n      <th></th>\n      <th></th>\n      <th></th>\n      <th></th>\n      <th></th>\n    </tr>\n  </thead>\n  <tbody>\n    <tr>\n      <th>S11609</th>\n      <td>2019-09-30</td>\n      <td>42</td>\n      <td>7326027.0</td>\n      <td>0.980148</td>\n      <td>0.796399</td>\n      <td>0.903970</td>\n    </tr>\n    <tr>\n      <th>S19828</th>\n      <td>2019-09-30</td>\n      <td>21</td>\n      <td>2642275.0</td>\n      <td>0.980148</td>\n      <td>0.356879</td>\n      <td>0.306556</td>\n    </tr>\n    <tr>\n      <th>S17166</th>\n      <td>2019-09-30</td>\n      <td>17</td>\n      <td>3627037.0</td>\n      <td>0.980148</td>\n      <td>0.261311</td>\n      <td>0.478301</td>\n    </tr>\n    <tr>\n      <th>S22925</th>\n      <td>2019-09-30</td>\n      <td>31</td>\n      <td>3449117.0</td>\n      <td>0.980148</td>\n      <td>0.591413</td>\n      <td>0.457987</td>\n    </tr>\n    <tr>\n      <th>S10469</th>\n      <td>2019-09-30</td>\n      <td>30</td>\n      <td>4198071.0</td>\n      <td>0.980148</td>\n      <td>0.570175</td>\n      <td>0.564174</td>\n    </tr>\n    <tr>\n      <th>...</th>\n      <td>...</td>\n      <td>...</td>\n      <td>...</td>\n      <td>...</td>\n      <td>...</td>\n      <td>...</td>\n    </tr>\n    <tr>\n      <th>S16503</th>\n      <td>2019-04-07</td>\n      <td>14</td>\n      <td>1682893.0</td>\n      <td>0.004617</td>\n      <td>0.198061</td>\n      <td>0.146814</td>\n    </tr>\n    <tr>\n      <th>S17547</th>\n      <td>2019-03-14</td>\n      <td>10</td>\n      <td>1784531.0</td>\n      <td>0.003232</td>\n      <td>0.087258</td>\n      <td>0.163435</td>\n    </tr>\n    <tr>\n      <th>S20864</th>\n      <td>2019-03-14</td>\n      <td>8</td>\n      <td>1118752.0</td>\n      <td>0.003232</td>\n      <td>0.039243</td>\n      <td>0.047091</td>\n    </tr>\n    <tr>\n      <th>S11908</th>\n      <td>2019-03-09</td>\n      <td>9</td>\n      <td>1552311.0</td>\n      <td>0.001847</td>\n      <td>0.060942</td>\n      <td>0.125577</td>\n    </tr>\n    <tr>\n      <th>S11611</th>\n      <td>2019-03-03</td>\n      <td>10</td>\n      <td>1487966.0</td>\n      <td>0.000923</td>\n      <td>0.087258</td>\n      <td>0.113573</td>\n    </tr>\n  </tbody>\n</table>\n<p>1083 rows × 6 columns</p>\n</div>"
     },
     "execution_count": 62,
     "metadata": {},
     "output_type": "execute_result"
    }
   ],
   "source": [
    "data_rfm['R'] = data_rfm['最近购买时间'].rank(pct=True)\n",
    "data_rfm['F'] = data_rfm['消费次数'].rank(pct=True)\n",
    "data_rfm['M'] = data_rfm['消费金额'].rank(pct=True)\n",
    "data_rfm.sort_values(by='R', ascending=False)"
   ],
   "metadata": {
    "collapsed": false,
    "pycharm": {
     "name": "#%%\n"
    }
   }
  },
  {
   "cell_type": "code",
   "execution_count": 63,
   "outputs": [
    {
     "data": {
      "text/plain": "           最近购买时间  消费次数        消费金额         R         F         M  score\n客户编码                                                                    \nS17476 2019-09-30    69  10325832.0  0.980148  0.986611  0.987073   98.6\nS22326 2019-09-30    62  10074609.0  0.980148  0.973223  0.984303   98.0\nS11581 2019-09-28    79  10333668.0  0.918283  0.996768  0.987996   97.7\nS12848 2019-09-29    66   9673572.0  0.944598  0.980609  0.980609   97.3\nS19095 2019-09-26    81  11031632.0  0.864728  0.999077  0.996307   97.1\n...           ...   ...         ...       ...       ...       ...    ...\nS12690 2019-05-07     7    917233.0  0.012927  0.022622  0.024931    2.2\nS11176 2019-06-09     7    614134.0  0.036011  0.022622  0.009234    1.9\nS18379 2019-07-05     4    400195.0  0.071099  0.003232  0.004617    1.7\nS13259 2019-06-01     6    645925.0  0.025854  0.011542  0.011080    1.4\nS12463 2019-04-11     7    345919.0  0.005540  0.022622  0.000923    0.8\n\n[1083 rows x 7 columns]",
      "text/html": "<div>\n<style scoped>\n    .dataframe tbody tr th:only-of-type {\n        vertical-align: middle;\n    }\n\n    .dataframe tbody tr th {\n        vertical-align: top;\n    }\n\n    .dataframe thead th {\n        text-align: right;\n    }\n</style>\n<table border=\"1\" class=\"dataframe\">\n  <thead>\n    <tr style=\"text-align: right;\">\n      <th></th>\n      <th>最近购买时间</th>\n      <th>消费次数</th>\n      <th>消费金额</th>\n      <th>R</th>\n      <th>F</th>\n      <th>M</th>\n      <th>score</th>\n    </tr>\n    <tr>\n      <th>客户编码</th>\n      <th></th>\n      <th></th>\n      <th></th>\n      <th></th>\n      <th></th>\n      <th></th>\n      <th></th>\n    </tr>\n  </thead>\n  <tbody>\n    <tr>\n      <th>S17476</th>\n      <td>2019-09-30</td>\n      <td>69</td>\n      <td>10325832.0</td>\n      <td>0.980148</td>\n      <td>0.986611</td>\n      <td>0.987073</td>\n      <td>98.6</td>\n    </tr>\n    <tr>\n      <th>S22326</th>\n      <td>2019-09-30</td>\n      <td>62</td>\n      <td>10074609.0</td>\n      <td>0.980148</td>\n      <td>0.973223</td>\n      <td>0.984303</td>\n      <td>98.0</td>\n    </tr>\n    <tr>\n      <th>S11581</th>\n      <td>2019-09-28</td>\n      <td>79</td>\n      <td>10333668.0</td>\n      <td>0.918283</td>\n      <td>0.996768</td>\n      <td>0.987996</td>\n      <td>97.7</td>\n    </tr>\n    <tr>\n      <th>S12848</th>\n      <td>2019-09-29</td>\n      <td>66</td>\n      <td>9673572.0</td>\n      <td>0.944598</td>\n      <td>0.980609</td>\n      <td>0.980609</td>\n      <td>97.3</td>\n    </tr>\n    <tr>\n      <th>S19095</th>\n      <td>2019-09-26</td>\n      <td>81</td>\n      <td>11031632.0</td>\n      <td>0.864728</td>\n      <td>0.999077</td>\n      <td>0.996307</td>\n      <td>97.1</td>\n    </tr>\n    <tr>\n      <th>...</th>\n      <td>...</td>\n      <td>...</td>\n      <td>...</td>\n      <td>...</td>\n      <td>...</td>\n      <td>...</td>\n      <td>...</td>\n    </tr>\n    <tr>\n      <th>S12690</th>\n      <td>2019-05-07</td>\n      <td>7</td>\n      <td>917233.0</td>\n      <td>0.012927</td>\n      <td>0.022622</td>\n      <td>0.024931</td>\n      <td>2.2</td>\n    </tr>\n    <tr>\n      <th>S11176</th>\n      <td>2019-06-09</td>\n      <td>7</td>\n      <td>614134.0</td>\n      <td>0.036011</td>\n      <td>0.022622</td>\n      <td>0.009234</td>\n      <td>1.9</td>\n    </tr>\n    <tr>\n      <th>S18379</th>\n      <td>2019-07-05</td>\n      <td>4</td>\n      <td>400195.0</td>\n      <td>0.071099</td>\n      <td>0.003232</td>\n      <td>0.004617</td>\n      <td>1.7</td>\n    </tr>\n    <tr>\n      <th>S13259</th>\n      <td>2019-06-01</td>\n      <td>6</td>\n      <td>645925.0</td>\n      <td>0.025854</td>\n      <td>0.011542</td>\n      <td>0.011080</td>\n      <td>1.4</td>\n    </tr>\n    <tr>\n      <th>S12463</th>\n      <td>2019-04-11</td>\n      <td>7</td>\n      <td>345919.0</td>\n      <td>0.005540</td>\n      <td>0.022622</td>\n      <td>0.000923</td>\n      <td>0.8</td>\n    </tr>\n  </tbody>\n</table>\n<p>1083 rows × 7 columns</p>\n</div>"
     },
     "execution_count": 63,
     "metadata": {},
     "output_type": "execute_result"
    }
   ],
   "source": [
    "data_rfm['score'] = data_rfm['R'] * 20 + data_rfm['F'] * 30 + data_rfm['M'] * 50\n",
    "data_rfm['score'] = data_rfm['score'].round(1)\n",
    "data_rfm.sort_values(by='score', ascending=False)"
   ],
   "metadata": {
    "collapsed": false,
    "pycharm": {
     "name": "#%%\n"
    }
   }
  },
  {
   "cell_type": "code",
   "execution_count": null,
   "outputs": [],
   "source": [],
   "metadata": {
    "collapsed": false,
    "pycharm": {
     "name": "#%%\n"
    }
   }
  },
  {
   "cell_type": "code",
   "execution_count": null,
   "outputs": [],
   "source": [],
   "metadata": {
    "collapsed": false,
    "pycharm": {
     "name": "#%%\n"
    }
   }
  },
  {
   "cell_type": "code",
   "execution_count": null,
   "outputs": [],
   "source": [],
   "metadata": {
    "collapsed": false,
    "pycharm": {
     "name": "#%%\n"
    }
   }
  },
  {
   "cell_type": "code",
   "execution_count": null,
   "metadata": {},
   "outputs": [],
   "source": []
  }
 ],
 "metadata": {
  "kernelspec": {
   "display_name": "Python 3",
   "language": "python",
   "name": "python3"
  },
  "language_info": {
   "codemirror_mode": {
    "name": "ipython",
    "version": 3
   },
   "file_extension": ".py",
   "mimetype": "text/x-python",
   "name": "python",
   "nbconvert_exporter": "python",
   "pygments_lexer": "ipython3",
   "version": "3.6.8"
  }
 },
 "nbformat": 4,
 "nbformat_minor": 1
}